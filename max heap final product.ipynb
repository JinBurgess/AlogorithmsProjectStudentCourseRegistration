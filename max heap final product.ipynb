{
 "cells": [
  {
   "cell_type": "markdown",
   "metadata": {},
   "source": [
    "#2 build max heap."
   ]
  },
  {
   "cell_type": "code",
   "execution_count": 1,
   "metadata": {},
   "outputs": [],
   "source": [
    "def Swap(list, pos1, pos2): #swaps two values in a list\n",
    "\n",
    "    list[pos1], list[pos2] = list[pos2], list[pos1]\n",
    "\n",
    "    return list\n",
    "\n",
    "def heapsize(list): #defines the size of the heap\n",
    "    return(len(list)-1)\n",
    "\n",
    "def parent(index): #finds the index of the parent value of a node\n",
    "    return((index-1)//2)\n",
    "\n",
    "def left(index): #finds the index of the left child of a node\n",
    "    return((2*index)+1)\n",
    "\n",
    "def right(index): #finds the index of the right child of a node\n",
    "    return((2*index)+2)\n",
    "\n",
    "def maxheapify(list,index):\n",
    "    L_child = left(index)\n",
    "    R_child = right(index)\n",
    "    if L_child <= heapsize(list) and list[L_child]>list[index]:\n",
    "        largest = L_child\n",
    "    else:\n",
    "        largest = index\n",
    "    # end if \n",
    "    if R_child<=heapsize(list) and list[R_child]>list[largest]:\n",
    "        largest = R_child\n",
    "    # end if\n",
    "    if largest != index:\n",
    "        list = Swap(list,index,largest) \n",
    "        return(maxheapify(list,largest))\n",
    "    \n",
    "\n",
    "def buildmaxheap(list):\n",
    "    for index in range(len(list)-1,-1,-1): \n",
    "        maxheapify(list,index)\n",
    "    return(list)\n",
    "    #for\n"
   ]
  },
  {
   "cell_type": "code",
   "execution_count": 2,
   "metadata": {},
   "outputs": [
    {
     "data": {
      "text/plain": [
       "[89, 56, 50, 34, 7, 6, 40, 9, 6, 5, 4, 1, 5, 7, 23, 3, 0]"
      ]
     },
     "execution_count": 2,
     "metadata": {},
     "output_type": "execute_result"
    }
   ],
   "source": [
    "list = [1,6,5,3,4,6,7,9,34,5,7,89,50,40,23,56,0]\n",
    "buildmaxheap(list)"
   ]
  },
  {
   "cell_type": "markdown",
   "metadata": {},
   "source": [
    "problem #3 "
   ]
  },
  {
   "cell_type": "markdown",
   "metadata": {},
   "source": []
  },
  {
   "cell_type": "code",
   "execution_count": 1,
   "metadata": {},
   "outputs": [],
   "source": [
    "level_dictionary = {} \n",
    "def priority_level(name,year,registrationday,major): \n",
    "    level = 0 #reset the level for each function call\n",
    "    if year == 0: #for auditors\n",
    "        level = level + (.5-(.1*(registrationday))) # level will equal 0.5 for registrations before orientation week, 0.4 for registrations on the first day, etc.\n",
    "        level_dictionary.update(\n",
    "        {name:level}\n",
    "        )\n",
    "        return(level_dictionary) #returns the updated dictionary\n",
    "    if year <5: # for undergraduate students\n",
    "        if major == 'cs' or major == 'math':\n",
    "            level = level+10 # adds 10 to the level for cs or math majors,\n",
    "        \n",
    "        level = level + year # adds 1,2,3, or 4 to the level based on the year. \n",
    "        level = level +(.5-(.1*(registrationday))) #+0.5 for students registered before the orientation week, same as for auditors.\n",
    "    else: level = level +15 #for graduate students, level will automatically be 15.\n",
    "    \n",
    "    level_dictionary.update(\n",
    "        {name:level}\n",
    "    )\n",
    "    return(level_dictionary) #return the updated dictionary\n",
    "\n",
    "\n",
    "\n",
    "def Swap(list, pos1, pos2):\n",
    "\n",
    "    list[pos1], list[pos2] = list[pos2], list[pos1]\n",
    "\n",
    "    return list\n",
    "\n",
    "def heapsize(list):\n",
    "    return(len(list)-1)\n",
    "\n",
    "def parent(index):\n",
    "    return((index-1)//2)\n",
    "\n",
    "def left(index):\n",
    "    return((2*index)+1)\n",
    "\n",
    "def right(index):\n",
    "    return((2*index)+2)\n",
    "\n",
    "def maxheapify(list,index):\n",
    "    L_child = left(index)\n",
    "    R_child = right(index)\n",
    "    if L_child <= heapsize(list) and level_dictionary[list[L_child]]>level_dictionary[list[index]]: #this function is slightly different than the previous because of the use of the dictionary\n",
    "        largest = L_child\n",
    "    else:\n",
    "        largest = index\n",
    "    # end if \n",
    "    if R_child<=heapsize(list) and level_dictionary[list[R_child]]>level_dictionary[list[largest]]: # also different here. \n",
    "        largest = R_child\n",
    "    # end if\n",
    "    if largest != index:\n",
    "        list = Swap(list,index,largest) \n",
    "        return(maxheapify(list,largest))\n",
    "    \n",
    "\n",
    "def buildmaxheap(list):\n",
    "    for index in range(len(list)-1,-1,-1):\n",
    "        maxheapify(list,index)\n",
    "    return(list)\n",
    "    #for"
   ]
  },
  {
   "cell_type": "code",
   "execution_count": 7,
   "metadata": {},
   "outputs": [],
   "source": [
    "'''use the priority_level function to add a student to the dictionary of students:priority levels\n",
    "input as priority_level('student name', year, day of orientation week, 'major')\n",
    "student name is used as the key in the dictionary and thus must be unique. \n",
    "year = 0 for people (non students) who want to audit a class.\n",
    "year = 1 through 4: for undergraduate students.\n",
    "year = 5+ for graduate students.\n",
    "day of orientation week must be 0,1,2,3,4,5. 0 for before orientation week, 1 for first day, etc. the 5th day of orientation week is the last day of registration.\n",
    "major: for undergrad students, a major of 'cs' or 'math' will have priority\n",
    "\n",
    "'''\n",
    "\n",
    "priority_level('student1',5,4,'cs')\n",
    "priority_level('student2',2,4,'math')\n",
    "priority_level('student3',1,0,'cs')\n",
    "priority_level('student4',0,4,'none')\n",
    "priority_level('student5',6,2,'data science')\n",
    "priority_level('student6',3,5,'science')\n",
    "priority_level('student7',2,2,'data science')\n",
    "priority_level('student8',5,3,'data science')\n",
    "\n",
    "level_key_list =[] # this will create a list of the key values to use to build the max heap.\n",
    "for key in level_dictionary.keys():\n",
    "    level_key_list.append(key)\n"
   ]
  },
  {
   "cell_type": "code",
   "execution_count": 8,
   "metadata": {},
   "outputs": [
    {
     "data": {
      "text/plain": [
       "['student1',\n",
       " 'student8',\n",
       " 'student3',\n",
       " 'student2',\n",
       " 'student5',\n",
       " 'student6',\n",
       " 'student7',\n",
       " 'student4']"
      ]
     },
     "execution_count": 8,
     "metadata": {},
     "output_type": "execute_result"
    }
   ],
   "source": [
    "buildmaxheap(level_key_list) # call the build max heap function to return the max heap of students based on the priority level.\n",
    "# "
   ]
  },
  {
   "cell_type": "markdown",
   "metadata": {},
   "source": [
    "additional comments:\n",
    "I really did not figure out how to answer the entire question, just how to build the max heap and create the priority levels. "
   ]
  }
 ],
 "metadata": {
  "kernelspec": {
   "display_name": "Python 3",
   "language": "python",
   "name": "python3"
  },
  "language_info": {
   "codemirror_mode": {
    "name": "ipython",
    "version": 3
   },
   "file_extension": ".py",
   "mimetype": "text/x-python",
   "name": "python",
   "nbconvert_exporter": "python",
   "pygments_lexer": "ipython3",
   "version": "3.11.4"
  },
  "orig_nbformat": 4
 },
 "nbformat": 4,
 "nbformat_minor": 2
}
