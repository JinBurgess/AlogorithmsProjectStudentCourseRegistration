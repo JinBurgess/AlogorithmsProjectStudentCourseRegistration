{
 "cells": [
  {
   "cell_type": "code",
   "execution_count": null,
   "metadata": {},
   "outputs": [],
   "source": []
  },
  {
   "cell_type": "code",
   "execution_count": 1,
   "metadata": {},
   "outputs": [],
   "source": [
    "def get_key(dictionary,val): #this function is used to find a dictionary key that matches the value given\n",
    "    for key,value in dictionary.items():#only use this function on a copy of a dictionary to avoid deleting original data.\n",
    "        if val == value:\n",
    "            del dictionary[key] #deletes key values from the dictionary to avoid getting duplicates in the algorithm when students have the same priority levels.\n",
    "            return key \n",
    "\n",
    "class algorithmsregistration: #creates a class that allows for registration of students into an algorithms class\n",
    "    def __init__(self, maxstudents):\n",
    "        self.maxstudents = maxstudents #set the maximum number of students that can be enrolled into the class. \n",
    "        self.level_dictionary = {}\n",
    "        self.registered_students_dictionary = {}\n",
    "    def register_student(self,name,year,registrationday,major): \n",
    "        '''use this function to register students. give the name, the year the student is in (0 for auditors), \n",
    "        the day of orientation week they registered (0 for before orientation week), and their major (cs for computer science and math for math) '''\n",
    "        self.registered_students_dictionary[name] = [(year, registrationday,major)] #adds student data to a dictionary \n",
    "        '''the rest of this function defines the priority levels of each student and adds it to a dictionary with the student's name.'''\n",
    "        level = 0 #reset the level for each function call\n",
    "        if year == 0: #for auditors\n",
    "            level = level + (.5-(.1*(registrationday))) # level will equal 0.5 for registrations before orientation week, 0.4 for registrations on the first day, etc.\n",
    "            self.level_dictionary.update(\n",
    "            {name:level}\n",
    "            )\n",
    "            return(self.level_dictionary and self.registered_students_dictionary) #returns the updated dictionary\n",
    "        if year <5: # for undergraduate students\n",
    "            if major == 'cs' or major == 'math':\n",
    "                level = level+10 # adds 10 to the level for cs or math majors,\n",
    "            level = level + year # adds 1,2,3, or 4 to the level based on the year. \n",
    "            level = level +(.5-(.1*(registrationday))) #+0.5 for students registered before the orientation week, same as for auditors.\n",
    "        else: level = level +15 #for graduate students, level will automatically be 15.\n",
    "        \n",
    "        self.level_dictionary.update(\n",
    "            {name:level}\n",
    "        )\n",
    "        return(self.level_dictionary and self.registered_students_dictionary) #return the updated dictionaries\n",
    "\n",
    "    def unenroll_student(self,name): #use this function if a student drops the class, then update the enrollment list to see which waitlisted student('s) can enroll in the class\n",
    "        del self.registered_students_dictionary[name]\n",
    "        del self.level_dictionary[name]\n",
    "        return (self.level_dictionary and self.registered_students_dictionary)\n",
    "    \n",
    "    def enrollment_list(self): #defines the enrolled_students list and the waitlisted_students list based on priority levels\n",
    "        self.waitlisted_students = []\n",
    "        self.level_dictionary_copy = self.level_dictionary.copy() #creates copy of level dictionary to avoid \n",
    "        self.enrolled_students = []\n",
    "        self.enrolled_students_levels = sorted(self.level_dictionary_copy.values())\n",
    "        for val in self.enrolled_students_levels:\n",
    "           self.enrolled_students.append(get_key(self.level_dictionary_copy,val))\n",
    "        if len(self.enrolled_students)>self.maxstudents:\n",
    "            self.waitlisted_students = self.enrolled_students[0:len(self.enrolled_students)-self.maxstudents]\n",
    "            self.enrolled_students = self.enrolled_students[len(self.enrolled_students) - self.maxstudents:]\n",
    "            return(self.waitlisted_students and self.enrolled_students)\n",
    "        else: return(self.enrolled_students)\n",
    "        \n",
    "\n",
    "        \n"
   ]
  },
  {
   "cell_type": "markdown",
   "metadata": {},
   "source": []
  },
  {
   "cell_type": "code",
   "execution_count": 2,
   "metadata": {},
   "outputs": [],
   "source": [
    "Fall2023 = algorithmsregistration(25)"
   ]
  },
  {
   "cell_type": "code",
   "execution_count": 3,
   "metadata": {},
   "outputs": [
    {
     "data": {
      "text/plain": [
       "{'student1': [(2, 0, 'cs')],\n",
       " 'student2': [(5, 0, 'data science')],\n",
       " 'student3': [(3, 2, 'math')],\n",
       " 'student4': [(0, 5, 'none')],\n",
       " 'student5': [(1, 4, 'science')],\n",
       " 'student6': [(2, 2, 'art')],\n",
       " 'student7': [(6, 5, 'data science')],\n",
       " 'student8': [(3, 5, 'math')],\n",
       " 'student9': [(7, 3, 'data science')],\n",
       " 'student10': [(0, 3, 'none')],\n",
       " 'student11': [(1, 0, 'cs')],\n",
       " 'student12': [(4, 3, 'math')],\n",
       " 'student13': [(4, 0, 'physics')],\n",
       " 'student14': [(3, 5, 'cs')],\n",
       " 'student15': [(2, 5, 'math')],\n",
       " 'student16': [(0, 0, 'none')],\n",
       " 'student17': [(4, 4, 'science')],\n",
       " 'student18': [(5, 4, 'data science')],\n",
       " 'student19': [(1, 0, 'math')],\n",
       " 'student20': [(1, 2, 'science')],\n",
       " 'student21': [(2, 4, 'cs')],\n",
       " 'student22': [(1, 2, 'math')],\n",
       " 'student23': [(3, 3, 'history')],\n",
       " 'student24': [(7, 0, 'data science')],\n",
       " 'student25': [(4, 0, 'cs')],\n",
       " 'student26': [(3, 0, 'math')],\n",
       " 'student27': [(2, 4, 'cs')],\n",
       " 'student28': [(2, 3, 'art')],\n",
       " 'student29': [(1, 0, 'science')],\n",
       " 'student30': [(1, 2, 'science')],\n",
       " 'student31': [(3, 0, 'cs')],\n",
       " 'student32': [(4, 0, 'math')],\n",
       " 'student33': [(2, 4, 'science')]}"
      ]
     },
     "execution_count": 3,
     "metadata": {},
     "output_type": "execute_result"
    }
   ],
   "source": [
    "Fall2023.register_student('student1',2,0,'cs')\n",
    "Fall2023.register_student('student2',5,0,'data science')\n",
    "Fall2023.register_student('student3',3,2,'math')\n",
    "Fall2023.register_student('student4',0,5,'none')\n",
    "Fall2023.register_student('student5',1,4,'science')\n",
    "Fall2023.register_student('student6',2,2,'art')\n",
    "Fall2023.register_student('student7',6,5,'data science')\n",
    "Fall2023.register_student('student8',3,5,'math')\n",
    "Fall2023.register_student('student9',7,3,'data science')\n",
    "Fall2023.register_student('student10',0,3,'none')\n",
    "Fall2023.register_student('student11',1,0,'cs')\n",
    "Fall2023.register_student('student12',4,3,'math')\n",
    "Fall2023.register_student('student13',4,0,'physics')\n",
    "Fall2023.register_student('student14',3,5,'cs')\n",
    "Fall2023.register_student('student15',2,5,'math')\n",
    "Fall2023.register_student('student16',0,0,'none')\n",
    "Fall2023.register_student('student17',4,4,'science')\n",
    "Fall2023.register_student('student18',5,4,'data science')\n",
    "Fall2023.register_student('student19',1,0,'math')\n",
    "Fall2023.register_student('student20',1,2,'science')\n",
    "Fall2023.register_student('student21',2,4,'cs')\n",
    "Fall2023.register_student('student22',1,2,'math')\n",
    "Fall2023.register_student('student23',3,3,'history')\n",
    "Fall2023.register_student('student24',7,0,'data science')\n",
    "Fall2023.register_student('student25',4,0,'cs')\n",
    "Fall2023.register_student('student26',3,0,'math')\n",
    "Fall2023.register_student('student27',2,4,'cs')\n",
    "Fall2023.register_student('student28',2,3,'art')\n",
    "Fall2023.register_student('student29',1,0,'science')\n",
    "Fall2023.register_student('student30',1,2,'science')\n",
    "Fall2023.register_student('student31',3,0,'cs')\n",
    "Fall2023.register_student('student32',4,0,'math')\n",
    "Fall2023.register_student('student33',2,4,'science')\n",
    "\n"
   ]
  },
  {
   "cell_type": "code",
   "execution_count": 4,
   "metadata": {},
   "outputs": [
    {
     "name": "stdout",
     "output_type": "stream",
     "text": [
      "{'student1': 12.5, 'student2': 15, 'student3': 13.3, 'student4': 0.0, 'student5': 1.1, 'student6': 2.3, 'student7': 15, 'student8': 13.0, 'student9': 15, 'student10': 0.19999999999999996, 'student11': 11.5, 'student12': 14.2, 'student13': 4.5, 'student14': 13.0, 'student15': 12.0, 'student16': 0.5, 'student17': 4.1, 'student18': 15, 'student19': 11.5, 'student20': 1.3, 'student21': 12.1, 'student22': 11.3, 'student23': 3.2, 'student24': 15, 'student25': 14.5, 'student26': 13.5, 'student27': 12.1, 'student28': 2.2, 'student29': 1.5, 'student30': 1.3, 'student31': 13.5, 'student32': 14.5, 'student33': 2.1}\n"
     ]
    }
   ],
   "source": [
    "print(Fall2023.level_dictionary)"
   ]
  },
  {
   "cell_type": "code",
   "execution_count": 5,
   "metadata": {},
   "outputs": [
    {
     "data": {
      "text/plain": [
       "['student28',\n",
       " 'student6',\n",
       " 'student23',\n",
       " 'student17',\n",
       " 'student13',\n",
       " 'student22',\n",
       " 'student11',\n",
       " 'student19',\n",
       " 'student15',\n",
       " 'student21',\n",
       " 'student27',\n",
       " 'student1',\n",
       " 'student8',\n",
       " 'student14',\n",
       " 'student3',\n",
       " 'student26',\n",
       " 'student31',\n",
       " 'student12',\n",
       " 'student25',\n",
       " 'student32',\n",
       " 'student2',\n",
       " 'student7',\n",
       " 'student9',\n",
       " 'student18',\n",
       " 'student24']"
      ]
     },
     "execution_count": 5,
     "metadata": {},
     "output_type": "execute_result"
    }
   ],
   "source": [
    "Fall2023.enrollment_list()"
   ]
  },
  {
   "cell_type": "code",
   "execution_count": 6,
   "metadata": {},
   "outputs": [
    {
     "name": "stdout",
     "output_type": "stream",
     "text": [
      "['student28', 'student6', 'student23', 'student17', 'student13', 'student22', 'student11', 'student19', 'student15', 'student21', 'student27', 'student1', 'student8', 'student14', 'student3', 'student26', 'student31', 'student12', 'student25', 'student32', 'student2', 'student7', 'student9', 'student18', 'student24']\n",
      "['student4', 'student10', 'student16', 'student5', 'student20', 'student30', 'student29', 'student33']\n"
     ]
    }
   ],
   "source": [
    "print(Fall2023.enrolled_students)\n",
    "\n",
    "#print(Fall2023.level_dictionary)\n",
    "print(Fall2023.waitlisted_students)"
   ]
  },
  {
   "cell_type": "code",
   "execution_count": 7,
   "metadata": {},
   "outputs": [
    {
     "name": "stdout",
     "output_type": "stream",
     "text": [
      "{'student1': 12.5, 'student2': 15, 'student3': 13.3, 'student4': 0.0, 'student5': 1.1, 'student6': 2.3, 'student7': 15, 'student8': 13.0, 'student9': 15, 'student10': 0.19999999999999996, 'student11': 11.5, 'student12': 14.2, 'student13': 4.5, 'student14': 13.0, 'student15': 12.0, 'student16': 0.5, 'student17': 4.1, 'student18': 15, 'student19': 11.5, 'student20': 1.3, 'student21': 12.1, 'student22': 11.3, 'student23': 3.2, 'student24': 15, 'student25': 14.5, 'student26': 13.5, 'student27': 12.1, 'student28': 2.2, 'student29': 1.5, 'student30': 1.3, 'student31': 13.5, 'student32': 14.5, 'student33': 2.1}\n"
     ]
    }
   ],
   "source": [
    "print(Fall2023.level_dictionary)\n"
   ]
  },
  {
   "cell_type": "markdown",
   "metadata": {},
   "source": []
  }
 ],
 "metadata": {
  "kernelspec": {
   "display_name": "Python 3",
   "language": "python",
   "name": "python3"
  },
  "language_info": {
   "codemirror_mode": {
    "name": "ipython",
    "version": 3
   },
   "file_extension": ".py",
   "mimetype": "text/x-python",
   "name": "python",
   "nbconvert_exporter": "python",
   "pygments_lexer": "ipython3",
   "version": "3.11.5"
  },
  "orig_nbformat": 4
 },
 "nbformat": 4,
 "nbformat_minor": 2
}
