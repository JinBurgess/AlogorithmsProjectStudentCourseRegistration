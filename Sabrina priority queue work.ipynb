{
 "cells": [
  {
   "cell_type": "code",
   "execution_count": null,
   "metadata": {},
   "outputs": [],
   "source": []
  },
  {
   "cell_type": "code",
   "execution_count": 125,
   "metadata": {},
   "outputs": [],
   "source": [
    "def get_key(dictionary,val):\n",
    "    for key,value in dictionary.items():\n",
    "        if val == value:\n",
    "            del dictionary[key]\n",
    "            return key\n",
    "def Swap(list, pos1, pos2):\n",
    "\n",
    "    list[pos1], list[pos2] = list[pos2], list[pos1]\n",
    "\n",
    "    return list\n",
    "\n",
    "def buildmaxheap(dictionary,list,heap_size):\n",
    "    for index in range(len(list)-1,-1,-1):\n",
    "        maxheapify(dictionary,list,index,heap_size)\n",
    "    return(list)\n",
    "\n",
    "def maxheapify(dictionary,list,index,heap_size):\n",
    "    L_child = left(index)\n",
    "    R_child = right(index)\n",
    "    if L_child <= heap_size and dictionary[list[L_child]]>dictionary[list[index]]:\n",
    "        largest = L_child\n",
    "    else:\n",
    "        largest = index\n",
    "    # end if \n",
    "    if R_child<=heap_size and dictionary[list[R_child]]>dictionary[list[largest]]:\n",
    "        largest = R_child\n",
    "    # end if\n",
    "    if largest != index:\n",
    "        list = Swap(list,index,largest) \n",
    "        return(maxheapify(dictionary,list,largest,heap_size))\n",
    "\n",
    "\n",
    "def heapsort(dictionary,list):\n",
    "    heap_size = len(list)\n",
    "    for index in range((heap_size//2)-1,-1,-1):\n",
    "        maxheapify(dictionary,list,index,heap_size)\n",
    "    for index in range((heap_size-1),0,-1):\n",
    "        Swap(list,0,index)\n",
    "        maxheapify(dictionary,list,0,index)\n",
    "\n",
    "def heapsize(list):\n",
    "    return(len(list)-1)\n",
    "\n",
    "def parent(index):\n",
    "    return((index-1)//2)\n",
    "\n",
    "def left(index):\n",
    "    return((2*index)+1)\n",
    "\n",
    "def right(index):\n",
    "    return((2*index)+2)\n",
    "\n",
    "class algorithmsregistration:\n",
    "    def __init__(self, maxstudents):\n",
    "        self.maxstudents = maxstudents\n",
    "        self.level_dictionary = {}\n",
    "        self.registered_students_dictionary = {}\n",
    "    def register_student(self,name,year,registrationday,major): \n",
    "        self.registered_students_dictionary[name] = [(year, registrationday,major)]\n",
    "        level = 0 #reset the level for each function call\n",
    "        if year == 0: #for auditors\n",
    "            level = level + (.5-(.1*(registrationday))) # level will equal 0.5 for registrations before orientation week, 0.4 for registrations on the first day, etc.\n",
    "            self.level_dictionary.update(\n",
    "            {name:level}\n",
    "            )\n",
    "            return(self.level_dictionary and self.registered_students_dictionary) #returns the updated dictionary\n",
    "        if year <5: # for undergraduate students\n",
    "            if major == 'cs' or major == 'math':\n",
    "                level = level+10 # adds 10 to the level for cs or math majors,\n",
    "            \n",
    "            level = level + year # adds 1,2,3, or 4 to the level based on the year. \n",
    "            level = level +(.5-(.1*(registrationday))) #+0.5 for students registered before the orientation week, same as for auditors.\n",
    "        else: level = level +15 #for graduate students, level will automatically be 15.\n",
    "        \n",
    "        self.level_dictionary.update(\n",
    "            {name:level}\n",
    "        )\n",
    "        return(self.level_dictionary and self.registered_students_dictionary) #return the updated dictionary\n",
    "\n",
    "    def unenroll_student(self,name):\n",
    "        del self.registered_students_dictionary[name]\n",
    "        del self.level_dictionary[name]\n",
    "        return (self.level_dictionary and self.registered_students_dictionary)\n",
    "    \n",
    "    def enrollment_list(self):\n",
    "        self.waitlisted_students = []\n",
    "        self.level_dictionary_copy = self.level_dictionary\n",
    "        self.enrolled_students = []\n",
    "        self.enrolled_students_levels = sorted(self.level_dictionary_copy.values())\n",
    "        for val in self.enrolled_students_levels:\n",
    "           self.enrolled_students.append(get_key(self.level_dictionary_copy,val))\n",
    "        if len(self.enrolled_students)>self.maxstudents:\n",
    "            self.waitlisted_students = self.enrolled_students[0:len(self.enrolled_students)-self.maxstudents]\n",
    "            self.enrolled_students = self.enrolled_students[len(self.enrolled_students) - self.maxstudents:]\n",
    "            return(self.waitlisted_students and self.enrolled_students)\n",
    "        else: return(self.enrolled_students)\n",
    "        \n",
    "\n",
    "        \n"
   ]
  },
  {
   "cell_type": "markdown",
   "metadata": {},
   "source": []
  },
  {
   "cell_type": "code",
   "execution_count": 134,
   "metadata": {},
   "outputs": [],
   "source": [
    "Fall2023 = algorithmsregistration(25)"
   ]
  },
  {
   "cell_type": "code",
   "execution_count": 135,
   "metadata": {},
   "outputs": [
    {
     "data": {
      "text/plain": [
       "{'student1': [(2, 0, 'cs')],\n",
       " 'student2': [(5, 0, 'data science')],\n",
       " 'student3': [(3, 2, 'math')],\n",
       " 'student4': [(0, 5, 'none')],\n",
       " 'student5': [(1, 4, 'science')],\n",
       " 'student6': [(2, 2, 'art')],\n",
       " 'student7': [(6, 5, 'data science')],\n",
       " 'student8': [(3, 5, 'math')],\n",
       " 'student9': [(7, 3, 'data science')],\n",
       " 'student10': [(0, 3, 'none')],\n",
       " 'student11': [(1, 0, 'cs')],\n",
       " 'student12': [(4, 3, 'math')],\n",
       " 'student13': [(4, 0, 'physics')],\n",
       " 'student14': [(3, 5, 'cs')],\n",
       " 'student15': [(2, 5, 'math')],\n",
       " 'student16': [(0, 0, 'none')],\n",
       " 'student17': [(4, 4, 'science')],\n",
       " 'student18': [(5, 4, 'data science')],\n",
       " 'student19': [(1, 0, 'math')],\n",
       " 'student20': [(1, 2, 'science')],\n",
       " 'student21': [(2, 4, 'cs')],\n",
       " 'student22': [(1, 2, 'math')],\n",
       " 'student23': [(3, 3, 'history')],\n",
       " 'student24': [(7, 0, 'data science')],\n",
       " 'student25': [(4, 0, 'cs')],\n",
       " 'student26': [(3, 0, 'math')],\n",
       " 'student27': [(2, 4, 'cs')],\n",
       " 'student28': [(2, 3, 'art')],\n",
       " 'student29': [(1, 0, 'science')],\n",
       " 'student30': [(1, 2, 'science')],\n",
       " 'student31': [(3, 0, 'cs')],\n",
       " 'student32': [(4, 0, 'math')],\n",
       " 'student33': [(2, 4, 'science')]}"
      ]
     },
     "execution_count": 135,
     "metadata": {},
     "output_type": "execute_result"
    }
   ],
   "source": [
    "Fall2023.register_student('student1',2,0,'cs')\n",
    "Fall2023.register_student('student2',5,0,'data science')\n",
    "Fall2023.register_student('student3',3,2,'math')\n",
    "Fall2023.register_student('student4',0,5,'none')\n",
    "Fall2023.register_student('student5',1,4,'science')\n",
    "Fall2023.register_student('student6',2,2,'art')\n",
    "Fall2023.register_student('student7',6,5,'data science')\n",
    "Fall2023.register_student('student8',3,5,'math')\n",
    "Fall2023.register_student('student9',7,3,'data science')\n",
    "Fall2023.register_student('student10',0,3,'none')\n",
    "Fall2023.register_student('student11',1,0,'cs')\n",
    "Fall2023.register_student('student12',4,3,'math')\n",
    "Fall2023.register_student('student13',4,0,'physics')\n",
    "Fall2023.register_student('student14',3,5,'cs')\n",
    "Fall2023.register_student('student15',2,5,'math')\n",
    "Fall2023.register_student('student16',0,0,'none')\n",
    "Fall2023.register_student('student17',4,4,'science')\n",
    "Fall2023.register_student('student18',5,4,'data science')\n",
    "Fall2023.register_student('student19',1,0,'math')\n",
    "Fall2023.register_student('student20',1,2,'science')\n",
    "Fall2023.register_student('student21',2,4,'cs')\n",
    "Fall2023.register_student('student22',1,2,'math')\n",
    "Fall2023.register_student('student23',3,3,'history')\n",
    "Fall2023.register_student('student24',7,0,'data science')\n",
    "Fall2023.register_student('student25',4,0,'cs')\n",
    "Fall2023.register_student('student26',3,0,'math')\n",
    "Fall2023.register_student('student27',2,4,'cs')\n",
    "Fall2023.register_student('student28',2,3,'art')\n",
    "Fall2023.register_student('student29',1,0,'science')\n",
    "Fall2023.register_student('student30',1,2,'science')\n",
    "Fall2023.register_student('student31',3,0,'cs')\n",
    "Fall2023.register_student('student32',4,0,'math')\n",
    "Fall2023.register_student('student33',2,4,'science')\n",
    "\n"
   ]
  },
  {
   "cell_type": "code",
   "execution_count": 136,
   "metadata": {},
   "outputs": [
    {
     "name": "stdout",
     "output_type": "stream",
     "text": [
      "{'student1': 12.5, 'student2': 15, 'student3': 13.3, 'student4': 0.0, 'student5': 1.1, 'student6': 2.3, 'student7': 15, 'student8': 13.0, 'student9': 15, 'student10': 0.19999999999999996, 'student11': 11.5, 'student12': 14.2, 'student13': 4.5, 'student14': 13.0, 'student15': 12.0, 'student16': 0.5, 'student17': 4.1, 'student18': 15, 'student19': 11.5, 'student20': 1.3, 'student21': 12.1, 'student22': 11.3, 'student23': 3.2, 'student24': 15, 'student25': 14.5, 'student26': 13.5, 'student27': 12.1, 'student28': 2.2, 'student29': 1.5, 'student30': 1.3, 'student31': 13.5, 'student32': 14.5, 'student33': 2.1}\n"
     ]
    }
   ],
   "source": [
    "print(Fall2023.level_dictionary)"
   ]
  },
  {
   "cell_type": "code",
   "execution_count": 137,
   "metadata": {},
   "outputs": [
    {
     "data": {
      "text/plain": [
       "['student28',\n",
       " 'student6',\n",
       " 'student23',\n",
       " 'student17',\n",
       " 'student13',\n",
       " 'student22',\n",
       " 'student11',\n",
       " 'student19',\n",
       " 'student15',\n",
       " 'student21',\n",
       " 'student27',\n",
       " 'student1',\n",
       " 'student8',\n",
       " 'student14',\n",
       " 'student3',\n",
       " 'student26',\n",
       " 'student31',\n",
       " 'student12',\n",
       " 'student25',\n",
       " 'student32',\n",
       " 'student2',\n",
       " 'student7',\n",
       " 'student9',\n",
       " 'student18',\n",
       " 'student24']"
      ]
     },
     "execution_count": 137,
     "metadata": {},
     "output_type": "execute_result"
    }
   ],
   "source": [
    "Fall2023.enrollment_list()"
   ]
  },
  {
   "cell_type": "code",
   "execution_count": 129,
   "metadata": {},
   "outputs": [
    {
     "name": "stdout",
     "output_type": "stream",
     "text": [
      "['student28', 'student6', 'student23', 'student17', 'student13', 'student22', 'student11', 'student19', 'student15', 'student21', 'student27', 'student1', 'student8', 'student14', 'student3', 'student26', 'student31', 'student12', 'student25', 'student32', 'student2', 'student7', 'student9', 'student18', 'student24']\n",
      "['student4', 'student10', 'student16', 'student5', 'student20', 'student30', 'student29', 'student33']\n"
     ]
    }
   ],
   "source": [
    "print(Fall2023.enrolled_students)\n",
    "\n",
    "#print(Fall2023.level_dictionary)\n",
    "print(Fall2023.waitlisted_students)"
   ]
  },
  {
   "cell_type": "code",
   "execution_count": 138,
   "metadata": {},
   "outputs": [
    {
     "name": "stdout",
     "output_type": "stream",
     "text": [
      "{}\n"
     ]
    }
   ],
   "source": [
    "print(Fall2023.level_dictionary)\n"
   ]
  }
 ],
 "metadata": {
  "kernelspec": {
   "display_name": "Python 3",
   "language": "python",
   "name": "python3"
  },
  "language_info": {
   "codemirror_mode": {
    "name": "ipython",
    "version": 3
   },
   "file_extension": ".py",
   "mimetype": "text/x-python",
   "name": "python",
   "nbconvert_exporter": "python",
   "pygments_lexer": "ipython3",
   "version": "3.11.5"
  },
  "orig_nbformat": 4
 },
 "nbformat": 4,
 "nbformat_minor": 2
}
